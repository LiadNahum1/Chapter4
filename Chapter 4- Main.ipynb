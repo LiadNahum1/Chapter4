{
 "cells": [
  {
   "cell_type": "code",
   "execution_count": 4,
   "id": "656bf022",
   "metadata": {},
   "outputs": [
    {
     "name": "stdout",
     "output_type": "stream",
     "text": [
      "Requirement already satisfied: schemdraw in c:\\users\\liadm\\appdata\\local\\programs\\python\\python39\\lib\\site-packages (0.9.1)\n"
     ]
    },
    {
     "name": "stderr",
     "output_type": "stream",
     "text": [
      "WARNING: You are using pip version 21.1.1; however, version 21.1.2 is available.\n",
      "You should consider upgrading via the 'c:\\users\\liadm\\appdata\\local\\programs\\python\\python39\\python.exe -m pip install --upgrade pip' command.\n"
     ]
    },
    {
     "name": "stdout",
     "output_type": "stream",
     "text": [
      "Requirement already satisfied: ipywidgets in c:\\users\\liadm\\appdata\\local\\programs\\python\\python39\\lib\\site-packages (7.6.3)\n",
      "Requirement already satisfied: jupyterlab-widgets>=1.0.0 in c:\\users\\liadm\\appdata\\local\\programs\\python\\python39\\lib\\site-packages (from ipywidgets) (1.0.0)\n",
      "Requirement already satisfied: ipython>=4.0.0 in c:\\users\\liadm\\appdata\\local\\programs\\python\\python39\\lib\\site-packages (from ipywidgets) (7.22.0)\n",
      "Requirement already satisfied: ipykernel>=4.5.1 in c:\\users\\liadm\\appdata\\local\\programs\\python\\python39\\lib\\site-packages (from ipywidgets) (5.5.3)\n",
      "Requirement already satisfied: traitlets>=4.3.1 in c:\\users\\liadm\\appdata\\local\\programs\\python\\python39\\lib\\site-packages (from ipywidgets) (5.0.5)\n",
      "Requirement already satisfied: widgetsnbextension~=3.5.0 in c:\\users\\liadm\\appdata\\local\\programs\\python\\python39\\lib\\site-packages (from ipywidgets) (3.5.1)\n",
      "Requirement already satisfied: nbformat>=4.2.0 in c:\\users\\liadm\\appdata\\local\\programs\\python\\python39\\lib\\site-packages (from ipywidgets) (5.1.3)\n",
      "Requirement already satisfied: jupyter-client in c:\\users\\liadm\\appdata\\local\\programs\\python\\python39\\lib\\site-packages (from ipykernel>=4.5.1->ipywidgets) (6.1.12)\n",
      "Requirement already satisfied: tornado>=4.2 in c:\\users\\liadm\\appdata\\local\\programs\\python\\python39\\lib\\site-packages (from ipykernel>=4.5.1->ipywidgets) (6.1)\n",
      "Requirement already satisfied: pygments in c:\\users\\liadm\\appdata\\local\\programs\\python\\python39\\lib\\site-packages (from ipython>=4.0.0->ipywidgets) (2.8.1)\n",
      "Requirement already satisfied: backcall in c:\\users\\liadm\\appdata\\local\\programs\\python\\python39\\lib\\site-packages (from ipython>=4.0.0->ipywidgets) (0.2.0)\n",
      "Requirement already satisfied: setuptools>=18.5 in c:\\users\\liadm\\appdata\\local\\programs\\python\\python39\\lib\\site-packages (from ipython>=4.0.0->ipywidgets) (49.2.1)\n",
      "Requirement already satisfied: prompt-toolkit!=3.0.0,!=3.0.1,<3.1.0,>=2.0.0 in c:\\users\\liadm\\appdata\\local\\programs\\python\\python39\\lib\\site-packages (from ipython>=4.0.0->ipywidgets) (3.0.18)\n",
      "Requirement already satisfied: pickleshare in c:\\users\\liadm\\appdata\\local\\programs\\python\\python39\\lib\\site-packages (from ipython>=4.0.0->ipywidgets) (0.7.5)\n",
      "Requirement already satisfied: colorama in c:\\users\\liadm\\appdata\\local\\programs\\python\\python39\\lib\\site-packages (from ipython>=4.0.0->ipywidgets) (0.4.4)\n",
      "Requirement already satisfied: jedi>=0.16 in c:\\users\\liadm\\appdata\\local\\programs\\python\\python39\\lib\\site-packages (from ipython>=4.0.0->ipywidgets) (0.18.0)\n",
      "Requirement already satisfied: decorator in c:\\users\\liadm\\appdata\\local\\programs\\python\\python39\\lib\\site-packages (from ipython>=4.0.0->ipywidgets) (5.0.6)\n",
      "Requirement already satisfied: parso<0.9.0,>=0.8.0 in c:\\users\\liadm\\appdata\\local\\programs\\python\\python39\\lib\\site-packages (from jedi>=0.16->ipython>=4.0.0->ipywidgets) (0.8.2)\n",
      "Requirement already satisfied: jupyter-core in c:\\users\\liadm\\appdata\\local\\programs\\python\\python39\\lib\\site-packages (from nbformat>=4.2.0->ipywidgets) (4.7.1)\n",
      "Requirement already satisfied: ipython-genutils in c:\\users\\liadm\\appdata\\local\\programs\\python\\python39\\lib\\site-packages (from nbformat>=4.2.0->ipywidgets) (0.2.0)\n",
      "Requirement already satisfied: jsonschema!=2.5.0,>=2.4 in c:\\users\\liadm\\appdata\\local\\programs\\python\\python39\\lib\\site-packages (from nbformat>=4.2.0->ipywidgets) (3.2.0)\n",
      "Requirement already satisfied: pyrsistent>=0.14.0 in c:\\users\\liadm\\appdata\\local\\programs\\python\\python39\\lib\\site-packages (from jsonschema!=2.5.0,>=2.4->nbformat>=4.2.0->ipywidgets) (0.17.3)\n",
      "Requirement already satisfied: attrs>=17.4.0 in c:\\users\\liadm\\appdata\\local\\programs\\python\\python39\\lib\\site-packages (from jsonschema!=2.5.0,>=2.4->nbformat>=4.2.0->ipywidgets) (20.3.0)\n",
      "Requirement already satisfied: six>=1.11.0 in c:\\users\\liadm\\appdata\\local\\programs\\python\\python39\\lib\\site-packages (from jsonschema!=2.5.0,>=2.4->nbformat>=4.2.0->ipywidgets) (1.15.0)\n",
      "Requirement already satisfied: wcwidth in c:\\users\\liadm\\appdata\\local\\programs\\python\\python39\\lib\\site-packages (from prompt-toolkit!=3.0.0,!=3.0.1,<3.1.0,>=2.0.0->ipython>=4.0.0->ipywidgets) (0.2.5)\n",
      "Requirement already satisfied: notebook>=4.4.1 in c:\\users\\liadm\\appdata\\local\\programs\\python\\python39\\lib\\site-packages (from widgetsnbextension~=3.5.0->ipywidgets) (6.3.0)\n",
      "Requirement already satisfied: nbconvert in c:\\users\\liadm\\appdata\\local\\programs\\python\\python39\\lib\\site-packages (from notebook>=4.4.1->widgetsnbextension~=3.5.0->ipywidgets) (6.0.7)\n",
      "Requirement already satisfied: prometheus-client in c:\\users\\liadm\\appdata\\local\\programs\\python\\python39\\lib\\site-packages (from notebook>=4.4.1->widgetsnbextension~=3.5.0->ipywidgets) (0.10.1)\n",
      "Requirement already satisfied: pyzmq>=17 in c:\\users\\liadm\\appdata\\local\\programs\\python\\python39\\lib\\site-packages (from notebook>=4.4.1->widgetsnbextension~=3.5.0->ipywidgets) (22.0.3)\n",
      "Requirement already satisfied: terminado>=0.8.3 in c:\\users\\liadm\\appdata\\local\\programs\\python\\python39\\lib\\site-packages (from notebook>=4.4.1->widgetsnbextension~=3.5.0->ipywidgets) (0.9.4)\n",
      "Requirement already satisfied: argon2-cffi in c:\\users\\liadm\\appdata\\local\\programs\\python\\python39\\lib\\site-packages (from notebook>=4.4.1->widgetsnbextension~=3.5.0->ipywidgets) (20.1.0)\n",
      "Requirement already satisfied: jinja2 in c:\\users\\liadm\\appdata\\local\\programs\\python\\python39\\lib\\site-packages (from notebook>=4.4.1->widgetsnbextension~=3.5.0->ipywidgets) (2.11.3)\n",
      "Requirement already satisfied: Send2Trash>=1.5.0 in c:\\users\\liadm\\appdata\\local\\programs\\python\\python39\\lib\\site-packages (from notebook>=4.4.1->widgetsnbextension~=3.5.0->ipywidgets) (1.5.0)\n",
      "Requirement already satisfied: python-dateutil>=2.1 in c:\\users\\liadm\\appdata\\local\\programs\\python\\python39\\lib\\site-packages (from jupyter-client->ipykernel>=4.5.1->ipywidgets) (2.8.1)\n",
      "Requirement already satisfied: pywin32>=1.0 in c:\\users\\liadm\\appdata\\local\\programs\\python\\python39\\lib\\site-packages (from jupyter-core->nbformat>=4.2.0->ipywidgets) (300)\n",
      "Requirement already satisfied: pywinpty>=0.5 in c:\\users\\liadm\\appdata\\local\\programs\\python\\python39\\lib\\site-packages (from terminado>=0.8.3->notebook>=4.4.1->widgetsnbextension~=3.5.0->ipywidgets) (0.5.7)\n",
      "Requirement already satisfied: cffi>=1.0.0 in c:\\users\\liadm\\appdata\\local\\programs\\python\\python39\\lib\\site-packages (from argon2-cffi->notebook>=4.4.1->widgetsnbextension~=3.5.0->ipywidgets) (1.14.5)\n",
      "Requirement already satisfied: pycparser in c:\\users\\liadm\\appdata\\local\\programs\\python\\python39\\lib\\site-packages (from cffi>=1.0.0->argon2-cffi->notebook>=4.4.1->widgetsnbextension~=3.5.0->ipywidgets) (2.20)\n",
      "Requirement already satisfied: MarkupSafe>=0.23 in c:\\users\\liadm\\appdata\\local\\programs\\python\\python39\\lib\\site-packages (from jinja2->notebook>=4.4.1->widgetsnbextension~=3.5.0->ipywidgets) (1.1.1)\n",
      "Requirement already satisfied: entrypoints>=0.2.2 in c:\\users\\liadm\\appdata\\local\\programs\\python\\python39\\lib\\site-packages (from nbconvert->notebook>=4.4.1->widgetsnbextension~=3.5.0->ipywidgets) (0.3)\n",
      "Requirement already satisfied: mistune<2,>=0.8.1 in c:\\users\\liadm\\appdata\\local\\programs\\python\\python39\\lib\\site-packages (from nbconvert->notebook>=4.4.1->widgetsnbextension~=3.5.0->ipywidgets) (0.8.4)\n",
      "Requirement already satisfied: bleach in c:\\users\\liadm\\appdata\\local\\programs\\python\\python39\\lib\\site-packages (from nbconvert->notebook>=4.4.1->widgetsnbextension~=3.5.0->ipywidgets) (3.3.0)\n",
      "Requirement already satisfied: nbclient<0.6.0,>=0.5.0 in c:\\users\\liadm\\appdata\\local\\programs\\python\\python39\\lib\\site-packages (from nbconvert->notebook>=4.4.1->widgetsnbextension~=3.5.0->ipywidgets) (0.5.3)\n",
      "Requirement already satisfied: testpath in c:\\users\\liadm\\appdata\\local\\programs\\python\\python39\\lib\\site-packages (from nbconvert->notebook>=4.4.1->widgetsnbextension~=3.5.0->ipywidgets) (0.4.4)\n",
      "Requirement already satisfied: pandocfilters>=1.4.1 in c:\\users\\liadm\\appdata\\local\\programs\\python\\python39\\lib\\site-packages (from nbconvert->notebook>=4.4.1->widgetsnbextension~=3.5.0->ipywidgets) (1.4.3)\n",
      "Requirement already satisfied: jupyterlab-pygments in c:\\users\\liadm\\appdata\\local\\programs\\python\\python39\\lib\\site-packages (from nbconvert->notebook>=4.4.1->widgetsnbextension~=3.5.0->ipywidgets) (0.1.2)\n",
      "Requirement already satisfied: defusedxml in c:\\users\\liadm\\appdata\\local\\programs\\python\\python39\\lib\\site-packages (from nbconvert->notebook>=4.4.1->widgetsnbextension~=3.5.0->ipywidgets) (0.7.1)\n",
      "Requirement already satisfied: async-generator in c:\\users\\liadm\\appdata\\local\\programs\\python\\python39\\lib\\site-packages (from nbclient<0.6.0,>=0.5.0->nbconvert->notebook>=4.4.1->widgetsnbextension~=3.5.0->ipywidgets) (1.10)\n",
      "Requirement already satisfied: nest-asyncio in c:\\users\\liadm\\appdata\\local\\programs\\python\\python39\\lib\\site-packages (from nbclient<0.6.0,>=0.5.0->nbconvert->notebook>=4.4.1->widgetsnbextension~=3.5.0->ipywidgets) (1.5.1)\n",
      "Requirement already satisfied: packaging in c:\\users\\liadm\\appdata\\local\\programs\\python\\python39\\lib\\site-packages (from bleach->nbconvert->notebook>=4.4.1->widgetsnbextension~=3.5.0->ipywidgets) (20.9)\n",
      "Requirement already satisfied: webencodings in c:\\users\\liadm\\appdata\\local\\programs\\python\\python39\\lib\\site-packages (from bleach->nbconvert->notebook>=4.4.1->widgetsnbextension~=3.5.0->ipywidgets) (0.5.1)\n",
      "Requirement already satisfied: pyparsing>=2.0.2 in c:\\users\\liadm\\appdata\\local\\programs\\python\\python39\\lib\\site-packages (from packaging->bleach->nbconvert->notebook>=4.4.1->widgetsnbextension~=3.5.0->ipywidgets) (2.4.7)\n"
     ]
    },
    {
     "name": "stderr",
     "output_type": "stream",
     "text": [
      "WARNING: You are using pip version 21.1.1; however, version 21.1.2 is available.\n",
      "You should consider upgrading via the 'c:\\users\\liadm\\appdata\\local\\programs\\python\\python39\\python.exe -m pip install --upgrade pip' command.\n",
      "Enabling notebook extension jupyter-js-widgets/extension...\n",
      "      - Validating: ok\n"
     ]
    },
    {
     "name": "stdout",
     "output_type": "stream",
     "text": [
      "Collecting matplotlib\n",
      "  Downloading matplotlib-3.4.2-cp39-cp39-win_amd64.whl (7.1 MB)\n",
      "Requirement already satisfied: pyparsing>=2.2.1 in c:\\users\\liadm\\appdata\\local\\programs\\python\\python39\\lib\\site-packages (from matplotlib) (2.4.7)\n",
      "Collecting pillow>=6.2.0\n",
      "  Downloading Pillow-8.2.0-cp39-cp39-win_amd64.whl (2.2 MB)\n",
      "Requirement already satisfied: numpy>=1.16 in c:\\users\\liadm\\appdata\\local\\programs\\python\\python39\\lib\\site-packages (from matplotlib) (1.20.1)\n",
      "Requirement already satisfied: python-dateutil>=2.7 in c:\\users\\liadm\\appdata\\local\\programs\\python\\python39\\lib\\site-packages (from matplotlib) (2.8.1)\n",
      "Collecting cycler>=0.10"
     ]
    },
    {
     "name": "stderr",
     "output_type": "stream",
     "text": [
      "WARNING: You are using pip version 21.1.1; however, version 21.1.2 is available.\n",
      "You should consider upgrading via the 'c:\\users\\liadm\\appdata\\local\\programs\\python\\python39\\python.exe -m pip install --upgrade pip' command.\n"
     ]
    },
    {
     "name": "stdout",
     "output_type": "stream",
     "text": [
      "\n",
      "  Using cached cycler-0.10.0-py2.py3-none-any.whl (6.5 kB)\n",
      "Collecting kiwisolver>=1.0.1\n",
      "  Downloading kiwisolver-1.3.1-cp39-cp39-win_amd64.whl (51 kB)\n",
      "Requirement already satisfied: six in c:\\users\\liadm\\appdata\\local\\programs\\python\\python39\\lib\\site-packages (from cycler>=0.10->matplotlib) (1.15.0)\n",
      "Installing collected packages: pillow, kiwisolver, cycler, matplotlib\n",
      "Successfully installed cycler-0.10.0 kiwisolver-1.3.1 matplotlib-3.4.2 pillow-8.2.0\n"
     ]
    }
   ],
   "source": [
    "!pip install schemdraw\n",
    "!pip install ipywidgets\n",
    "!jupyter nbextension enable --py widgetsnbextension\n",
    "!pip install matplotlib"
   ]
  },
  {
   "cell_type": "code",
   "execution_count": 10,
   "id": "f0d92080",
   "metadata": {},
   "outputs": [],
   "source": [
    "import schemdraw\n",
    "import schemdraw.elements as elm\n",
    "import matplotlib.pyplot as plt\n",
    "from ipywidgets import widgets, HBox, interact, Layout\n",
    "from IPython.display import display, clear_output\n",
    "from schemdraw import logic"
   ]
  },
  {
   "cell_type": "markdown",
   "id": "16bbbb5b",
   "metadata": {},
   "source": [
    "# Ohm's Law"
   ]
  },
  {
   "cell_type": "code",
   "execution_count": 6,
   "id": "33cb4a26",
   "metadata": {},
   "outputs": [
    {
     "data": {
      "application/vnd.jupyter.widget-view+json": {
       "model_id": "65bf4880811b4e60bdbfc74dfe73d1e5",
       "version_major": 2,
       "version_minor": 0
      },
      "text/plain": [
       "interactive(children=(IntSlider(value=1, description='R', max=25, min=1), IntSlider(value=100, description='V'…"
      ]
     },
     "metadata": {},
     "output_type": "display_data"
    }
   ],
   "source": [
    "resistor = widgets.IntSlider(min=1, max=25)\n",
    "voltage = widgets.IntSlider(min=100, max=400)\n",
    "Rs = []\n",
    "Is = []\n",
    "Vs = []\n",
    "\n",
    "def ohms_law(R=1, V=100, plot=True):\n",
    "    d = schemdraw.Drawing()\n",
    "    d.add(elm.Resistor().right().label(f'{R}Ω'))\n",
    "    d.add(elm.Capacitor().down().label(f'{V}V'))\n",
    "    d.add(elm.Line().left())\n",
    "    d.add(elm.Line().up())\n",
    "    if plot:\n",
    "        display(d.draw())\n",
    "    return V/R\n",
    "    \n",
    "@interact(R=resistor, V=voltage)\n",
    "def f(R, V):\n",
    "    I = V/R\n",
    "#     Rs.append(R)\n",
    "#     Is.append(I)\n",
    "#     Vs.append(V)\n",
    "    ohms_law(R, V)\n",
    "    print(f'I (current) is {I:.2f}')\n",
    "#     plt.plot(Rs, Is)"
   ]
  },
  {
   "cell_type": "markdown",
   "id": "1c5a09f2",
   "metadata": {},
   "source": [
    "## Power"
   ]
  },
  {
   "cell_type": "markdown",
   "id": "b8487018",
   "metadata": {},
   "source": [
    "## Measuring Power Consumption"
   ]
  },
  {
   "cell_type": "markdown",
   "id": "74bc34b5",
   "metadata": {},
   "source": [
    "### Ampermeter"
   ]
  },
  {
   "cell_type": "code",
   "execution_count": 7,
   "id": "2da87a65",
   "metadata": {},
   "outputs": [
    {
     "data": {
      "application/vnd.jupyter.widget-view+json": {
       "model_id": "666ff20842e349e1a608aec796a14bb1",
       "version_major": 2,
       "version_minor": 0
      },
      "text/plain": [
       "interactive(children=(IntSlider(value=10, description='R', max=200, min=10), Output()), _dom_classes=('widget-…"
      ]
     },
     "metadata": {},
     "output_type": "display_data"
    }
   ],
   "source": [
    "resistor = widgets.IntSlider(min=10, max=200)\n",
    "\n",
    "def Amptermeter(R, V):\n",
    "    I = ohms_law(R, V, plot=False)\n",
    "    d = schemdraw.Drawing()\n",
    "    d.add(elm.sources.MeterA().up().label(f'{I:.2f}'))\n",
    "    d.add(elm.Resistor().left().label(f'{R}Ω'))\n",
    "    d.add(elm.lines.Arrow().up().label('VDD\\n220V'))\n",
    "    display(d.draw())\n",
    "\n",
    "@interact(R=resistor)\n",
    "def f(R):\n",
    "    V = 220 # Volts\n",
    "    Amptermeter(R, V)"
   ]
  },
  {
   "cell_type": "markdown",
   "id": "1c505a22",
   "metadata": {},
   "source": [
    "### Voltmeter"
   ]
  },
  {
   "cell_type": "code",
   "execution_count": 8,
   "id": "1cfcfed0",
   "metadata": {},
   "outputs": [
    {
     "data": {
      "application/vnd.jupyter.widget-view+json": {
       "model_id": "abda65094cea4883bf8f41f2de4631a0",
       "version_major": 2,
       "version_minor": 0
      },
      "text/plain": [
       "interactive(children=(IntSlider(value=10, description='R', max=200, min=10), Output()), _dom_classes=('widget-…"
      ]
     },
     "metadata": {},
     "output_type": "display_data"
    }
   ],
   "source": [
    "resistor = widgets.IntSlider(min=10, max=200)\n",
    "\n",
    "def Voltmeter(R, V):\n",
    "    I = ohms_law(R, V, plot=False)\n",
    "    d = schemdraw.Drawing()\n",
    "    d.add(elm.sources.MeterV().up().label(f'{I:.2f}'))\n",
    "    d.add(elm.Resistor().left().label(f'{R}Ω'))\n",
    "    d.add(elm.lines.Arrow().up().label('VDD\\n220V'))\n",
    "    display(d.draw())\n",
    "\n",
    "@interact(R=resistor)\n",
    "def f(R):\n",
    "    V = 220 # Volts\n",
    "    Voltmeter(R, V)"
   ]
  },
  {
   "cell_type": "markdown",
   "id": "c5f5208e",
   "metadata": {},
   "source": [
    "# CMOS - Complementary Metal Oxide Semiconductor"
   ]
  },
  {
   "cell_type": "markdown",
   "id": "c459cdda",
   "metadata": {},
   "source": [
    "###  NOT Gate CMOS"
   ]
  },
  {
   "cell_type": "code",
   "execution_count": 11,
   "id": "bcf61233",
   "metadata": {},
   "outputs": [
    {
     "data": {
      "application/vnd.jupyter.widget-view+json": {
       "model_id": "d76832dc17044fecbd7c767a9272281b",
       "version_major": 2,
       "version_minor": 0
      },
      "text/plain": [
       "interactive(children=(Dropdown(description='A', options=(0, 1), value=0), Output()), _dom_classes=('widget-int…"
      ]
     },
     "metadata": {},
     "output_type": "display_data"
    }
   ],
   "source": [
    "@interact(A=[0,1])\n",
    "def logical_not_gate(A):\n",
    "    display(HBox(layout=Layout(padding='35px')))\n",
    "    display(logic.Not().label(f'A={A}', loc='left').label('$\\overline{A}$='+f'{1-A}', loc='right'))"
   ]
  },
  {
   "cell_type": "code",
   "execution_count": 12,
   "id": "c67edb4b",
   "metadata": {},
   "outputs": [
    {
     "data": {
      "application/vnd.jupyter.widget-view+json": {
       "model_id": "3c29924da9ef4a9b8418a83d086af523",
       "version_major": 2,
       "version_minor": 0
      },
      "text/plain": [
       "interactive(children=(Dropdown(description='A', options=(0, 1), value=0), Output()), _dom_classes=('widget-int…"
      ]
     },
     "metadata": {},
     "output_type": "display_data"
    }
   ],
   "source": [
    "@interact(A=[0,1])\n",
    "def cmos_not_gate(A):\n",
    "    display(HBox(layout=Layout(padding='35px')))\n",
    "    d = schemdraw.Drawing()\n",
    "    if A==0:\n",
    "        nfet = elm.NFet().left().label('open', color='red', loc='right')\n",
    "        pfet = elm.PFet().label('closed', color='green', loc='right')\n",
    "    else:\n",
    "        nfet = elm.NFet().left().label('closed', color='green', loc='right')\n",
    "        pfet = elm.PFet().label('open', color='red', loc='right')\n",
    "    d.add(nfet)\n",
    "    d.push()\n",
    "    d.add(elm.Line().left().at(nfet.drain).label('VSS:0', loc='left'))  #VSS\n",
    "    d.add(elm.Line().right().at(nfet.drain))\n",
    "    d.pop()\n",
    "    d.add(pfet)\n",
    "    d.add(elm.Line().left().at(pfet.drain).label('VDD:1', loc='left'))#VDD\n",
    "    d.add(elm.Line().right().at(pfet.drain)) \n",
    "    d.add(elm.Line().length(2).right().at(nfet.source).label(f'Q={1-A}', loc='right')) #Q\n",
    "    d.add(elm.Line().length(0.75).down().at(pfet.gate))\n",
    "    d.push()\n",
    "    d.add(elm.Line().length(1).left().label(f'A={A}', loc='left')) #A\n",
    "    d.pop()\n",
    "    d.add(elm.Line().length(0.75).down())\n",
    "    display(d.draw())"
   ]
  },
  {
   "cell_type": "markdown",
   "id": "bbd968a2",
   "metadata": {},
   "source": [
    "### NAND Gate CMOS"
   ]
  },
  {
   "cell_type": "code",
   "execution_count": 13,
   "id": "2db57f01",
   "metadata": {},
   "outputs": [
    {
     "data": {
      "application/vnd.jupyter.widget-view+json": {
       "model_id": "a21dde0362124f7d9caef7f1640c958e",
       "version_major": 2,
       "version_minor": 0
      },
      "text/plain": [
       "interactive(children=(Dropdown(description='a', options=(0, 1), value=0), Dropdown(description='b', options=(0…"
      ]
     },
     "metadata": {},
     "output_type": "display_data"
    }
   ],
   "source": [
    "@interact(a=[0,1], b=[0,1])\n",
    "def logical_nand_gate(a, b):\n",
    "    display(HBox(layout=Layout(\n",
    "                    padding='35px')))\n",
    "\n",
    "    display(logic.Nand().label(f'A={a}', loc='in1').label(f'B={b}', loc='in2').label(f'A&B = {1-a*b}', loc='right'))"
   ]
  },
  {
   "cell_type": "code",
   "execution_count": 14,
   "id": "83c6853d",
   "metadata": {},
   "outputs": [
    {
     "data": {
      "application/vnd.jupyter.widget-view+json": {
       "model_id": "ab0fd2c0b2174920ba51116b777f77a9",
       "version_major": 2,
       "version_minor": 0
      },
      "text/plain": [
       "interactive(children=(Dropdown(description='A', options=(0, 1), value=0), Dropdown(description='B', options=(0…"
      ]
     },
     "metadata": {},
     "output_type": "display_data"
    }
   ],
   "source": [
    "@interact(A=[0,1], B=[0,1])\n",
    "def cmos_not_gate(A,B):\n",
    "    display(HBox(layout=Layout(padding='35px')))\n",
    "    d = schemdraw.Drawing()\n",
    "    if A==0:\n",
    "        nfet_a = elm.NFet().left().label('open', color='red', loc='right')\n",
    "        pfet_a = elm.PFet().label('closed', color='green', loc='right')\n",
    "    else:\n",
    "        nfet_a = elm.NFet().left().label('closed', color='green', loc='right')\n",
    "        pfet_a = elm.PFet().left().label('open', color='red', loc='right')\n",
    "    if B==0:\n",
    "        nfet_b = elm.NFet().left().label('open', color='red', loc='right')\n",
    "        pfet_b = elm.PFet().label('closed', color='green', loc='right')\n",
    "    else:\n",
    "        nfet_b = elm.NFet().left().label('closed', color='green', loc='right')\n",
    "        pfet_b = elm.PFet().label('open', color='red', loc='right')\n",
    "\n",
    "    d.add(nfet_b)\n",
    "    \n",
    "    d.push()\n",
    "    \n",
    "    line_b_left = d.add(elm.Line().length(0.5).left().at(nfet_b.gate))\n",
    "    d.add(elm.Line().length(0.5).label(f'B={B}', loc='left')) #B\n",
    "    line_b_down = d.add(elm.Line().down().length(1).at(line_b_left.end))    \n",
    "    d.add(elm.Line().down().length(1).at(nfet_b.drain))\n",
    "    d.push()\n",
    "    d.add(elm.Line().left().label('VSS:0', loc='left'))  #VSS\n",
    "    d.pop()\n",
    "    d.add(elm.Line().length(7).right())\n",
    "    \n",
    "    d.pop()\n",
    "    \n",
    "    d.add(nfet_a)\n",
    "    d.add(pfet_a)\n",
    "    \n",
    "    d.add(elm.Line().length(0.75).down().at(pfet_a.gate))\n",
    "    d.push()\n",
    "    d.add(elm.Line().length(1).left().label(f'A={A}', loc='left')) #A\n",
    "    d.pop()\n",
    "    d.add(elm.Line().length(0.75).down())\n",
    "    \n",
    "    d.add(elm.Line().left().at(pfet_a.drain).label('VDD:1', loc='left'))#VDD\n",
    "    vdd_line = d.add(elm.Line().right().at(pfet_a.drain)) \n",
    "    \n",
    "    d.add(pfet_b.right().reverse())\n",
    "    d.add(elm.Line().right().at(vdd_line.start).to(pfet_b.source))\n",
    "    d.add(elm.Line())\n",
    "    d.add(elm.Line().length(1).left().at(pfet_b.gate))\n",
    "    d.add(elm.Line().length(0.75).down())\n",
    "    open_dot = d.add(elm.Dot(open=True))\n",
    "    d.add(elm.Line().length(3.25).down())\n",
    "    d.add(elm.Line().left().to(nfet_b.drain))\n",
    "    d.add(elm.Dot(open=True))\n",
    "    d.add(elm.Line().left().to(line_b_down.end))\n",
    "\n",
    "\n",
    "    \n",
    "    d.add(elm.Line().length(2).right().at(nfet_a.source).to(pfet_b.drain)) #Q    \n",
    "    d.add(elm.Dot())\n",
    "    d.add(elm.Line().right().label(f'Q={1-A*B}', loc='right'))\n",
    "    display(d.draw())"
   ]
  },
  {
   "cell_type": "markdown",
   "id": "63e49e93",
   "metadata": {},
   "source": [
    "# FlipFlop\n",
    "ref: https://schemdraw.readthedocs.io/en/latest/gallery/logicgate.html#s-r-latch-gates"
   ]
  },
  {
   "cell_type": "code",
   "execution_count": 16,
   "id": "920b8bd8",
   "metadata": {},
   "outputs": [
    {
     "name": "stdout",
     "output_type": "stream",
     "text": [
      "initial state Q = 0\n"
     ]
    },
    {
     "data": {
      "application/vnd.jupyter.widget-view+json": {
       "model_id": "01b32cd9aeca44d4a75a4b2ba3d47127",
       "version_major": 2,
       "version_minor": 0
      },
      "text/plain": [
       "interactive(children=(Dropdown(description='R', options=(0, 1), value=0), Dropdown(description='S', options=(0…"
      ]
     },
     "metadata": {},
     "output_type": "display_data"
    }
   ],
   "source": [
    "q = 0\n",
    "qb = 1\n",
    "print('initial state Q = 0')\n",
    "@interact(R=[0,1], S=[0,1])\n",
    "def flipflop(R,S):\n",
    "    global q, qb \n",
    "    display(HBox(layout=Layout(padding='35px')))\n",
    "\n",
    "    if S == 1 and R == 0:\n",
    "        q = 1\n",
    "        qb = 0\n",
    "    elif S == 0 and R == 1:\n",
    "        q = 0\n",
    "        qb = 1\n",
    "    elif S == 1 and R == 1:\n",
    "        q = '???'\n",
    "        qb = '???'\n",
    "    \n",
    "    d = schemdraw.Drawing()\n",
    "    \n",
    "    d += logic.Line().length(d.unit/4).label('R', 'left').color('red' if R == 1 else 'black')\n",
    "    d += (G1 := logic.Nor().anchor('in1'))\n",
    "    d += logic.Line().length(d.unit/4).color('red' if R == 1 else 'black')\n",
    "    d += (Q := logic.Dot().color('red' if R == 1 else 'black'))\n",
    "    d += logic.Line().length(d.unit/4).label('Q='+str(q), 'right').color('red' if R == 1 else 'black')\n",
    "    d += (G2 := logic.Nor().at((G1.in1[0],G1.in1[1]-2.5)).anchor('in1'))\n",
    "    d += logic.Line().length(d.unit/4).color('red' if S == 1 else 'black')\n",
    "    d += (Qb := logic.Dot().color('red' if S == 1 else 'black'))\n",
    "    d += logic.Line().length(d.unit/4).label('$\\overline{Q}=$'+str(qb), 'right').color('red' if S == 1 else 'black')\n",
    "    d += (S1 := logic.Line().up().at(G2.in1).length(d.unit/6)).color('red' if R == 1 else 'black')\n",
    "    d += logic.Line().down().at(Q.start).length(d.unit/6).color('red' if R == 1 else 'black')\n",
    "    d += logic.Line().to(S1.end).color('red' if R == 1 else 'black')\n",
    "    d += (R1 := logic.Line().down().at(G1.in2).length(d.unit/6).color('red' if S == 1 else 'black'))\n",
    "    d += logic.Line().up().at(Qb.start).length(d.unit/6).color('red' if S == 1 else 'black')\n",
    "    d += logic.Line().to(R1.end).color('red' if S == 1 else 'black')\n",
    "    d += logic.Line().left().at(G2.in2).length(d.unit/4).label('S', 'left').color('red' if S == 1 else 'black')\n",
    "    \n",
    "    display(d)"
   ]
  }
 ],
 "metadata": {
  "kernelspec": {
   "display_name": "Python 3",
   "language": "python",
   "name": "python3"
  },
  "language_info": {
   "codemirror_mode": {
    "name": "ipython",
    "version": 3
   },
   "file_extension": ".py",
   "mimetype": "text/x-python",
   "name": "python",
   "nbconvert_exporter": "python",
   "pygments_lexer": "ipython3",
   "version": "3.9.0"
  }
 },
 "nbformat": 4,
 "nbformat_minor": 5
}
