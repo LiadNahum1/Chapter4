{
 "cells": [
  {
   "cell_type": "code",
   "execution_count": 1,
   "id": "caf52e79",
   "metadata": {},
   "outputs": [
    {
     "name": "stdout",
     "output_type": "stream",
     "text": [
      "Requirement already satisfied: schemdraw in c:\\users\\liadm\\appdata\\local\\programs\\python\\python39\\lib\\site-packages (0.9.1)\n"
     ]
    }
   ],
   "source": [
    "!pip install schemdraw\n",
    "!pip install ipywidgets\n",
    "!jupyter nbextension enable --py widgetsnbextension"
   ]
  },
  {
   "cell_type": "code",
   "execution_count": 111,
   "id": "8c115704",
   "metadata": {},
   "outputs": [],
   "source": [
    "import schemdraw\n",
    "import schemdraw.elements as elm\n",
    "from schemdraw import logic\n",
    "from ipywidgets import widgets, HBox, interact, Layout\n",
    "from IPython.display import display, clear_output"
   ]
  },
  {
   "cell_type": "code",
   "execution_count": 130,
   "id": "f695b887",
   "metadata": {},
   "outputs": [
    {
     "data": {
      "application/vnd.jupyter.widget-view+json": {
       "model_id": "0a11d57101804e808408340e174dce6a",
       "version_major": 2,
       "version_minor": 0
      },
      "text/plain": [
       "interactive(children=(Dropdown(description='prevq', options=(0, 1), value=0), Dropdown(description='d', option…"
      ]
     },
     "metadata": {},
     "output_type": "display_data"
    }
   ],
   "source": [
    "@interact(prevq=[0,1], d=[0,1], c=[0,1])\n",
    "def flipflop(prevq, d, c):\n",
    "    ff1 = elm.Ic(pins=[elm.IcPin(name='>', pin=f'c={c}', side='left'),\n",
    "                  elm.IcPin(pin=f'D={d}', side='left'),\n",
    "#                   elm.IcPin(pin=f'R={r}', side='bottom'),\n",
    "#                   elm.IcPin(pin=f'S={s}', side='top'),\n",
    "                  elm.IcPin(pin='$\\overline{Q}$'f'={abs(1-d) if c else abs(1-prevq)}', side='right', anchorname='QBAR'),\n",
    "                  elm.IcPin(pin=f'Q={d if c else prevq}', side='right')],                      \n",
    "#             edgepadW = .5,  # Make it a bit wider\n",
    "            pinspacing=1)\n",
    "    display(ff1)"
   ]
  },
  {
   "cell_type": "code",
   "execution_count": null,
   "id": "8a426ab6",
   "metadata": {},
   "outputs": [],
   "source": []
  }
 ],
 "metadata": {
  "kernelspec": {
   "display_name": "Python 3",
   "language": "python",
   "name": "python3"
  },
  "language_info": {
   "codemirror_mode": {
    "name": "ipython",
    "version": 3
   },
   "file_extension": ".py",
   "mimetype": "text/x-python",
   "name": "python",
   "nbconvert_exporter": "python",
   "pygments_lexer": "ipython3",
   "version": "3.9.2"
  }
 },
 "nbformat": 4,
 "nbformat_minor": 5
}
