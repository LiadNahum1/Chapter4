{
 "cells": [
  {
   "cell_type": "code",
   "execution_count": 1,
   "id": "caf52e79",
   "metadata": {},
   "outputs": [
    {
     "name": "stdout",
     "output_type": "stream",
     "text": [
      "Requirement already satisfied: schemdraw in c:\\users\\liadm\\appdata\\local\\programs\\python\\python39\\lib\\site-packages (0.9.1)\n"
     ]
    }
   ],
   "source": [
    "!pip install schemdraw\n",
    "!pip install ipywidgets\n",
    "!jupyter nbextension enable --py widgetsnbextension"
   ]
  },
  {
   "cell_type": "code",
   "execution_count": 1,
   "id": "8c115704",
   "metadata": {},
   "outputs": [],
   "source": [
    "import schemdraw\n",
    "import schemdraw.elements as elm\n",
    "from schemdraw import logic\n",
    "from ipywidgets import widgets, HBox, interact, Layout\n",
    "from IPython.display import display, clear_output"
   ]
  },
  {
   "cell_type": "markdown",
   "id": "5a9c95d6",
   "metadata": {},
   "source": [
    "CMOS - Complementary Metal Oxide Semiconductor"
   ]
  },
  {
   "cell_type": "markdown",
   "id": "81b4e626",
   "metadata": {},
   "source": [
    "NOT Gate CMOS"
   ]
  },
  {
   "cell_type": "code",
   "execution_count": 2,
   "id": "478a03e8",
   "metadata": {},
   "outputs": [
    {
     "data": {
      "application/vnd.jupyter.widget-view+json": {
       "model_id": "40202d6c1a044e12be49a10faf81c2b7",
       "version_major": 2,
       "version_minor": 0
      },
      "text/plain": [
       "interactive(children=(Dropdown(description='A', options=(0, 1), value=0), Output()), _dom_classes=('widget-int…"
      ]
     },
     "metadata": {},
     "output_type": "display_data"
    }
   ],
   "source": [
    "@interact(A=[0,1])\n",
    "def logical_not_gate(A):\n",
    "    display(HBox(layout=Layout(padding='35px')))\n",
    "    display(logic.Nor().label(f'A={A}', loc='left').label('$\\overline{A}$='+f'{1-A}', loc='right'))"
   ]
  },
  {
   "cell_type": "code",
   "execution_count": 3,
   "id": "63cf6b03",
   "metadata": {},
   "outputs": [
    {
     "data": {
      "application/vnd.jupyter.widget-view+json": {
       "model_id": "a9e9bac344d04639b8ddaf33484e03b7",
       "version_major": 2,
       "version_minor": 0
      },
      "text/plain": [
       "interactive(children=(Dropdown(description='A', options=(0, 1), value=0), Output()), _dom_classes=('widget-int…"
      ]
     },
     "metadata": {},
     "output_type": "display_data"
    }
   ],
   "source": [
    "@interact(A=[0,1])\n",
    "def cmos_not_gate(A):\n",
    "    display(HBox(layout=Layout(padding='35px')))\n",
    "    d = schemdraw.Drawing()\n",
    "    if A==0:\n",
    "        nfet = elm.NFet().left().label('open', color='red', loc='right')\n",
    "        pfet = elm.PFet().label('closed', color='green', loc='right')\n",
    "    else:\n",
    "        nfet = elm.NFet().left().label('closed', color='green', loc='right')\n",
    "        pfet = elm.PFet().label('open', color='red', loc='right')\n",
    "    d.add(nfet)\n",
    "    d.push()\n",
    "    d.add(elm.Line().left().at(nfet.drain).label('VSS:0', loc='left'))  #VSS\n",
    "    d.add(elm.Line().right().at(nfet.drain))\n",
    "    d.pop()\n",
    "    d.add(pfet)\n",
    "    d.add(elm.Line().left().at(pfet.drain).label('VDD:1', loc='left'))#VDD\n",
    "    d.add(elm.Line().right().at(pfet.drain)) \n",
    "    d.add(elm.Line().length(2).right().at(nfet.source).label(f'Q={1-A}', loc='right')) #Q\n",
    "    d.add(elm.Line().length(0.75).down().at(pfet.gate))\n",
    "    d.push()\n",
    "    d.add(elm.Line().length(1).left().label(f'A={A}', loc='left')) #A\n",
    "    d.pop()\n",
    "    d.add(elm.Line().length(0.75).down())\n",
    "    display(d.draw())"
   ]
  },
  {
   "cell_type": "markdown",
   "id": "25d616a6",
   "metadata": {},
   "source": [
    "NAND Gate CMOS"
   ]
  },
  {
   "cell_type": "code",
   "execution_count": 4,
   "id": "28bd414e",
   "metadata": {},
   "outputs": [
    {
     "data": {
      "application/vnd.jupyter.widget-view+json": {
       "model_id": "b8b97441ff884f35ae82868f1a649813",
       "version_major": 2,
       "version_minor": 0
      },
      "text/plain": [
       "interactive(children=(Dropdown(description='a', options=(0, 1), value=0), Dropdown(description='b', options=(0…"
      ]
     },
     "metadata": {},
     "output_type": "display_data"
    }
   ],
   "source": [
    "@interact(a=[0,1], b=[0,1])\n",
    "def logical_nand_gate(a, b):\n",
    "    display(HBox(layout=Layout(padding='35px')))\n",
    "    \n",
    "    display(logic.Nor().label(f'A={a}', loc='in1').label(f'B={b}', loc='in2').label(f'A&B = {1-a*b}', loc='right'))\n",
    "    display(logic.Nor().label(f'A={b}', loc='in1').label(f'B={b}', loc='in2').label(f'A&B = {1-a*b}', loc='right'))\n"
   ]
  },
  {
   "cell_type": "code",
   "execution_count": 5,
   "id": "845ba0fe",
   "metadata": {},
   "outputs": [
    {
     "data": {
      "application/vnd.jupyter.widget-view+json": {
       "model_id": "03aab7e916434e7b8b0826e6b3d6e6db",
       "version_major": 2,
       "version_minor": 0
      },
      "text/plain": [
       "interactive(children=(Dropdown(description='A', options=(0, 1), value=0), Dropdown(description='B', options=(0…"
      ]
     },
     "metadata": {},
     "output_type": "display_data"
    }
   ],
   "source": [
    "@interact(A=[0,1], B=[0,1])\n",
    "def cmos_not_gate(A,B):\n",
    "    display(HBox(layout=Layout(padding='35px')))\n",
    "    d = schemdraw.Drawing()\n",
    "    if A==0:\n",
    "        nfet_a = elm.NFet().left().label('open', color='red', loc='right')\n",
    "        pfet_a = elm.PFet().label('closed', color='green', loc='right')\n",
    "    else:\n",
    "        nfet_a = elm.NFet().left().label('closed', color='green', loc='right')\n",
    "        pfet_a = elm.PFet().left().label('open', color='red', loc='right')\n",
    "    if B==0:\n",
    "        nfet_b = elm.NFet().left().label('open', color='red', loc='right')\n",
    "        pfet_b = elm.PFet().label('closed', color='green', loc='right')\n",
    "    else:\n",
    "        nfet_b = elm.NFet().left().label('closed', color='green', loc='right')\n",
    "        pfet_b = elm.PFet().label('open', color='red', loc='right')\n",
    "\n",
    "    d.add(nfet_b)\n",
    "    \n",
    "    d.push()\n",
    "    \n",
    "    line_b_left = d.add(elm.Line().length(0.5).left().at(nfet_b.gate))\n",
    "    d.add(elm.Line().length(0.5).label(f'B={B}', loc='left')) #B\n",
    "    line_b_down = d.add(elm.Line().down().length(1).at(line_b_left.end))    \n",
    "    d.add(elm.Line().down().length(1).at(nfet_b.drain))\n",
    "    d.push()\n",
    "    d.add(elm.Line().left().label('VSS:0', loc='left'))  #VSS\n",
    "    d.pop()\n",
    "    d.add(elm.Line().length(7).right())\n",
    "    \n",
    "    d.pop()\n",
    "    \n",
    "    d.add(nfet_a)\n",
    "    d.add(pfet_a)\n",
    "    \n",
    "    d.add(elm.Line().length(0.75).down().at(pfet_a.gate))\n",
    "    d.push()\n",
    "    d.add(elm.Line().length(1).left().label(f'A={A}', loc='left')) #A\n",
    "    d.pop()\n",
    "    d.add(elm.Line().length(0.75).down())\n",
    "    \n",
    "    d.add(elm.Line().left().at(pfet_a.drain).label('VDD:1', loc='left'))#VDD\n",
    "    vdd_line = d.add(elm.Line().right().at(pfet_a.drain)) \n",
    "    \n",
    "    d.add(pfet_b.right().reverse())\n",
    "    d.add(elm.Line().right().at(vdd_line.start).to(pfet_b.source))\n",
    "    d.add(elm.Line())\n",
    "    d.add(elm.Line().length(1).left().at(pfet_b.gate))\n",
    "    d.add(elm.Line().length(0.75).down())\n",
    "    open_dot = d.add(elm.Dot(open=True))\n",
    "    d.add(elm.Line().length(3.25).down())\n",
    "    d.add(elm.Line().left().to(nfet_b.drain))\n",
    "    d.add(elm.Dot(open=True))\n",
    "    d.add(elm.Line().left().to(line_b_down.end))\n",
    "\n",
    "\n",
    "    \n",
    "    d.add(elm.Line().length(2).right().at(nfet_a.source).to(pfet_b.drain)) #Q    \n",
    "    d.add(elm.Dot())\n",
    "    d.add(elm.Line().right().label(f'Q={1-A*B}', loc='right'))\n",
    "    display(d.draw())"
   ]
  },
  {
   "cell_type": "code",
   "execution_count": null,
   "id": "fc10bb37",
   "metadata": {},
   "outputs": [],
   "source": [
    "We will write Here"
   ]
  }
 ],
 "metadata": {
  "kernelspec": {
   "display_name": "Python 3",
   "language": "python",
   "name": "python3"
  },
  "language_info": {
   "codemirror_mode": {
    "name": "ipython",
    "version": 3
   },
   "file_extension": ".py",
   "mimetype": "text/x-python",
   "name": "python",
   "nbconvert_exporter": "python",
   "pygments_lexer": "ipython3",
   "version": "3.9.2"
  }
 },
 "nbformat": 4,
 "nbformat_minor": 5
}
