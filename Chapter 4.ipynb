{
 "cells": [
  {
   "cell_type": "code",
   "execution_count": 1,
   "id": "caf52e79",
   "metadata": {},
   "outputs": [
    {
     "name": "stdout",
     "output_type": "stream",
     "text": [
      "Requirement already satisfied: schemdraw in c:\\users\\liadm\\appdata\\local\\programs\\python\\python39\\lib\\site-packages (0.9.1)\n"
     ]
    }
   ],
   "source": [
    "!pip install schemdraw\n"
   ]
  },
  {
   "cell_type": "code",
   "execution_count": 97,
   "id": "8c115704",
   "metadata": {},
   "outputs": [],
   "source": [
    "import schemdraw\n",
    "import schemdraw.elements as elm\n",
    "from schemdraw import logic\n",
    "from ipywidgets import widgets, HBox\n",
    "from IPython.display import display, clear_output"
   ]
  },
  {
   "cell_type": "markdown",
   "id": "5a9c95d6",
   "metadata": {},
   "source": [
    "CMOS - Complementary Metal Oxide Semiconductor"
   ]
  },
  {
   "cell_type": "markdown",
   "id": "81b4e626",
   "metadata": {},
   "source": [
    "NOT Gate CMOS"
   ]
  },
  {
   "cell_type": "code",
   "execution_count": 86,
   "id": "eb786a59",
   "metadata": {},
   "outputs": [
    {
     "data": {
      "application/vnd.jupyter.widget-view+json": {
       "model_id": "47f8828e947046b38c88cfaa7be8eba6",
       "version_major": 2,
       "version_minor": 0
      },
      "text/plain": [
       "RadioButtons(description='A', options=(0, 1), value=0)"
      ]
     },
     "metadata": {},
     "output_type": "display_data"
    },
    {
     "data": {
      "image/png": "[encoded data removed]",
      "image/svg+xml": [
       "<svg xmlns=\"http://www.w3.org/2000/svg\" xml:lang=\"en\" height=\"36.4pt\" width=\"163.0624pt\" viewBox=\"-31.3112 -18.2 163.0624 36.4\"><circle cx=\"64.8\" cy=\"-0.0\" r=\"3.888\" style=\"stroke:black;fill:none;stroke-width:2;\"/>\n",
       "<path d=\"M 0.0,-0.0 L 28.512,-0.0 L 39.852,-0.0 M 68.688,-0.0 L 97.19999999999999,-0.0\" style=\"stroke:black;fill:none;stroke-width:2;stroke-linecap:round;stroke-linejoin:round;\" />\n",
       "<path d=\"M 68.688,-0.0 L 72.252,-0.0\" style=\"stroke:black;fill:none;stroke-width:2;stroke-linecap:round;stroke-linejoin:round;\" />\n",
       "<path d=\"M 39.852,-0.0 L 39.852,16.2 L 60.91199999999999,-0.0 L 39.852,-16.2 L 39.852,-0.0\" style=\"stroke:black;fill:none;stroke-width:2;stroke-linecap:round;stroke-linejoin:round;\" />\n",
       "<text x=\"-3.2399999999999993\" y=\"-5.6000000000000005\" fill=\"black\" font-size=\"14\"\n",
       "font-family=\"sans-serif\" text-anchor=\"end\"  transform=\" rotate(0 -3.2399999999999993 -0.0)\"><tspan x=\"-3.2399999999999993\" dy=\"11.200000000000001\">A=0</tspan></text>\n",
       "<text x=\"100.44\" y=\"-5.6000000000000005\" fill=\"black\" font-size=\"14\"\n",
       "font-family=\"sans-serif\" text-anchor=\"start\"  transform=\" rotate(0 100.44 -0.0)\"><tspan x=\"100.44\" dy=\"11.200000000000001\"><tspan text-decoration=\"overline\">A</tspan>=1</tspan></text></svg>"
      ],
      "text/plain": [
       "<schemdraw.logic.logic.Not at 0x2a6f2844fa0>"
      ]
     },
     "metadata": {},
     "output_type": "display_data"
    }
   ],
   "source": [
    "a= widgets.RadioButtons(\n",
    "    options=[0, 1],\n",
    "    description='A',\n",
    "    disabled=False\n",
    ")\n",
    "\n",
    "def radio_eventhandler(obj):\n",
    "    clear_output()\n",
    "    display(a)\n",
    "    new_val = obj['new']\n",
    "    display(logic.Not().label(f'A={new_val}', loc='left').label('$\\overline{A}$='+f'{1-int(new_val)}', loc='right'))\n",
    "\n",
    "\n",
    "display(a)\n",
    "display(logic.Not().label(f'A={0}', loc='left').label('$\\overline{A}$='+f'{1}', loc='right'))\n",
    "\n",
    "a.observe(radio_eventhandler, names='value')\n"
   ]
  },
  {
   "cell_type": "code",
   "execution_count": 87,
   "id": "63cf6b03",
   "metadata": {},
   "outputs": [
    {
     "data": {
      "image/svg+xml": [
       "<svg xmlns=\"http://www.w3.org/2000/svg\" xml:lang=\"en\" height=\"121.0pt\" width=\"230.28160000000003pt\" viewBox=\"-131.0816 -110.72000000000001 230.28160000000003 121.0\"><circle cx=\"-33.47999999999999\" cy=\"-72.89999999999999\" r=\"3.7799999999999994\" style=\"stroke:black;fill:none;stroke-width:2;\"/>\n",
       "<path d=\"M 0.0,-0.0 L 1.6532731788489267e-15,-13.499999999999998 L -21.599999999999998,-13.5 L -21.599999999999994,-35.099999999999994 L 4.298510265007209e-15,-35.099999999999994 L 5.951783443856136e-15,-48.599999999999994\" style=\"stroke:black;fill:none;stroke-width:2;stroke-linecap:round;stroke-linejoin:round;\" />\n",
       "<path d=\"M -29.699999999999996,-13.500000000000002 L -29.699999999999992,-35.1\" style=\"stroke:black;fill:none;stroke-width:2;stroke-linecap:round;stroke-linejoin:round;\" />\n",
       "<path d=\"M -29.699999999999992,-24.300000000000004 L -46.98,-24.300000000000008\" style=\"stroke:black;fill:none;stroke-width:2;stroke-linecap:round;stroke-linejoin:round;\" />\n",
       "<path d=\"M 0.0,-0.0 L -48.599999999999994,-5.951783443856136e-15 L -97.19999999999999,-1.1903566887712272e-14\" style=\"stroke:black;fill:none;stroke-width:2;stroke-linecap:round;stroke-linejoin:round;\" />\n",
       "<path d=\"M 0.0,-0.0 L 48.599999999999994,-0.0 L 97.19999999999999,-0.0\" style=\"stroke:black;fill:none;stroke-width:2;stroke-linecap:round;stroke-linejoin:round;\" />\n",
       "<path d=\"M 5.951783443856136e-15,-48.599999999999994 L 7.605056622705061e-15,-62.099999999999994 L -21.59999999999999,-62.1 L -21.599999999999987,-83.69999999999999 L 1.0250293708863344e-14,-83.69999999999999 L 1.1903566887712272e-14,-97.19999999999999\" style=\"stroke:black;fill:none;stroke-width:2;stroke-linecap:round;stroke-linejoin:round;\" />\n",
       "<path d=\"M -29.69999999999999,-62.1 L -29.699999999999985,-83.7\" style=\"stroke:black;fill:none;stroke-width:2;stroke-linecap:round;stroke-linejoin:round;\" />\n",
       "<path d=\"M -37.25999999999999,-72.89999999999999 L -46.97999999999999,-72.89999999999999\" style=\"stroke:black;fill:none;stroke-width:2;stroke-linecap:round;stroke-linejoin:round;\" />\n",
       "<path d=\"M 1.1903566887712272e-14,-97.19999999999999 L 48.600000000000016,-97.19999999999999 L 97.20000000000002,-97.19999999999999\" style=\"stroke:black;fill:none;stroke-width:2;stroke-linecap:round;stroke-linejoin:round;\" />\n",
       "<path d=\"M 1.1903566887712272e-14,-97.19999999999999 L -48.59999999999998,-97.19999999999999 L -97.19999999999997,-97.20000000000002\" style=\"stroke:black;fill:none;stroke-width:2;stroke-linecap:round;stroke-linejoin:round;\" />\n",
       "<path d=\"M 5.951783443856136e-15,-48.599999999999994 L 32.400000000000006,-48.599999999999994 L 64.8,-48.599999999999994\" style=\"stroke:black;fill:none;stroke-width:2;stroke-linecap:round;stroke-linejoin:round;\" />\n",
       "<path d=\"M -46.97999999999999,-72.89999999999999 L -46.97999999999999,-60.75 L -46.98,-48.599999999999994\" style=\"stroke:black;fill:none;stroke-width:2;stroke-linecap:round;stroke-linejoin:round;\" />\n",
       "<path d=\"M -46.98,-48.599999999999994 L -63.17999999999999,-48.599999999999994 L -79.38,-48.60000000000001\" style=\"stroke:black;fill:none;stroke-width:2;stroke-linecap:round;stroke-linejoin:round;\" />\n",
       "<path d=\"M -46.98,-48.599999999999994 L -46.98,-36.449999999999996 L -46.980000000000004,-24.299999999999997\" style=\"stroke:black;fill:none;stroke-width:2;stroke-linecap:round;stroke-linejoin:round;\" />\n",
       "<text x=\"-100.44\" y=\"-5.600000000000013\" fill=\"black\" font-size=\"14\"\n",
       "font-family=\"sans-serif\" text-anchor=\"end\"  transform=\" rotate(0 -100.44 -1.2300352450636014e-14)\"><tspan x=\"-100.44\" dy=\"11.200000000000001\">VSS</tspan></text>\n",
       "<text x=\"-100.43999999999998\" y=\"-102.80000000000003\" fill=\"black\" font-size=\"14\"\n",
       "font-family=\"sans-serif\" text-anchor=\"end\"  transform=\" rotate(0 -100.43999999999998 -97.20000000000002)\"><tspan x=\"-100.43999999999998\" dy=\"11.200000000000001\">VDD</tspan></text>\n",
       "<text x=\"68.04\" y=\"-54.199999999999996\" fill=\"black\" font-size=\"14\"\n",
       "font-family=\"sans-serif\" text-anchor=\"start\"  transform=\" rotate(0 68.04 -48.599999999999994)\"><tspan x=\"68.04\" dy=\"11.200000000000001\">Q</tspan></text>\n",
       "<text x=\"-82.61999999999999\" y=\"-54.20000000000001\" fill=\"black\" font-size=\"14\"\n",
       "font-family=\"sans-serif\" text-anchor=\"end\"  transform=\" rotate(0 -82.61999999999999 -48.60000000000001)\"><tspan x=\"-82.61999999999999\" dy=\"11.200000000000001\">A</tspan></text></svg>"
      ],
      "text/plain": [
       "<svg xmlns=\"http://www.w3.org/2000/svg\" xml:lang=\"en\" height=\"121.0pt\" width=\"230.28160000000003pt\" viewBox=\"-131.0816 -110.72000000000001 230.28160000000003 121.0\"><circle cx=\"-33.47999999999999\" cy=\"-72.89999999999999\" r=\"3.7799999999999994\" style=\"stroke:black;fill:none;stroke-width:2;\"/>\n",
       "<path d=\"M 0.0,-0.0 L 1.6532731788489267e-15,-13.499999999999998 L -21.599999999999998,-13.5 L -21.599999999999994,-35.099999999999994 L 4.298510265007209e-15,-35.099999999999994 L 5.951783443856136e-15,-48.599999999999994\" style=\"stroke:black;fill:none;stroke-width:2;stroke-linecap:round;stroke-linejoin:round;\" />\n",
       "<path d=\"M -29.699999999999996,-13.500000000000002 L -29.699999999999992,-35.1\" style=\"stroke:black;fill:none;stroke-width:2;stroke-linecap:round;stroke-linejoin:round;\" />\n",
       "<path d=\"M -29.699999999999992,-24.300000000000004 L -46.98,-24.300000000000008\" style=\"stroke:black;fill:none;stroke-width:2;stroke-linecap:round;stroke-linejoin:round;\" />\n",
       "<path d=\"M 0.0,-0.0 L -48.599999999999994,-5.951783443856136e-15 L -97.19999999999999,-1.1903566887712272e-14\" style=\"stroke:black;fill:none;stroke-width:2;stroke-linecap:round;stroke-linejoin:round;\" />\n",
       "<path d=\"M 0.0,-0.0 L 48.599999999999994,-0.0 L 97.19999999999999,-0.0\" style=\"stroke:black;fill:none;stroke-width:2;stroke-linecap:round;stroke-linejoin:round;\" />\n",
       "<path d=\"M 5.951783443856136e-15,-48.599999999999994 L 7.605056622705061e-15,-62.099999999999994 L -21.59999999999999,-62.1 L -21.599999999999987,-83.69999999999999 L 1.0250293708863344e-14,-83.69999999999999 L 1.1903566887712272e-14,-97.19999999999999\" style=\"stroke:black;fill:none;stroke-width:2;stroke-linecap:round;stroke-linejoin:round;\" />\n",
       "<path d=\"M -29.69999999999999,-62.1 L -29.699999999999985,-83.7\" style=\"stroke:black;fill:none;stroke-width:2;stroke-linecap:round;stroke-linejoin:round;\" />\n",
       "<path d=\"M -37.25999999999999,-72.89999999999999 L -46.97999999999999,-72.89999999999999\" style=\"stroke:black;fill:none;stroke-width:2;stroke-linecap:round;stroke-linejoin:round;\" />\n",
       "<path d=\"M 1.1903566887712272e-14,-97.19999999999999 L 48.600000000000016,-97.19999999999999 L 97.20000000000002,-97.19999999999999\" style=\"stroke:black;fill:none;stroke-width:2;stroke-linecap:round;stroke-linejoin:round;\" />\n",
       "<path d=\"M 1.1903566887712272e-14,-97.19999999999999 L -48.59999999999998,-97.19999999999999 L -97.19999999999997,-97.20000000000002\" style=\"stroke:black;fill:none;stroke-width:2;stroke-linecap:round;stroke-linejoin:round;\" />\n",
       "<path d=\"M 5.951783443856136e-15,-48.599999999999994 L 32.400000000000006,-48.599999999999994 L 64.8,-48.599999999999994\" style=\"stroke:black;fill:none;stroke-width:2;stroke-linecap:round;stroke-linejoin:round;\" />\n",
       "<path d=\"M -46.97999999999999,-72.89999999999999 L -46.97999999999999,-60.75 L -46.98,-48.599999999999994\" style=\"stroke:black;fill:none;stroke-width:2;stroke-linecap:round;stroke-linejoin:round;\" />\n",
       "<path d=\"M -46.98,-48.599999999999994 L -63.17999999999999,-48.599999999999994 L -79.38,-48.60000000000001\" style=\"stroke:black;fill:none;stroke-width:2;stroke-linecap:round;stroke-linejoin:round;\" />\n",
       "<path d=\"M -46.98,-48.599999999999994 L -46.98,-36.449999999999996 L -46.980000000000004,-24.299999999999997\" style=\"stroke:black;fill:none;stroke-width:2;stroke-linecap:round;stroke-linejoin:round;\" />\n",
       "<text x=\"-100.44\" y=\"-5.600000000000013\" fill=\"black\" font-size=\"14\"\n",
       "font-family=\"sans-serif\" text-anchor=\"end\"  transform=\" rotate(0 -100.44 -1.2300352450636014e-14)\"><tspan x=\"-100.44\" dy=\"11.200000000000001\">VSS</tspan></text>\n",
       "<text x=\"-100.43999999999998\" y=\"-102.80000000000003\" fill=\"black\" font-size=\"14\"\n",
       "font-family=\"sans-serif\" text-anchor=\"end\"  transform=\" rotate(0 -100.43999999999998 -97.20000000000002)\"><tspan x=\"-100.43999999999998\" dy=\"11.200000000000001\">VDD</tspan></text>\n",
       "<text x=\"68.04\" y=\"-54.199999999999996\" fill=\"black\" font-size=\"14\"\n",
       "font-family=\"sans-serif\" text-anchor=\"start\"  transform=\" rotate(0 68.04 -48.599999999999994)\"><tspan x=\"68.04\" dy=\"11.200000000000001\">Q</tspan></text>\n",
       "<text x=\"-82.61999999999999\" y=\"-54.20000000000001\" fill=\"black\" font-size=\"14\"\n",
       "font-family=\"sans-serif\" text-anchor=\"end\"  transform=\" rotate(0 -82.61999999999999 -48.60000000000001)\"><tspan x=\"-82.61999999999999\" dy=\"11.200000000000001\">A</tspan></text></svg>"
      ]
     },
     "execution_count": 87,
     "metadata": {},
     "output_type": "execute_result"
    }
   ],
   "source": [
    "d = schemdraw.Drawing()\n",
    "nfet = d.add(elm.NFet().left())\n",
    "d.push()\n",
    "d.add(elm.Line().left().at(nfet.drain).label('VSS', loc='left'))  #VDD\n",
    "d.add(elm.Line().right().at(nfet.drain))\n",
    "d.pop()\n",
    "pfet = d.add(elm.PFet())\n",
    "d.add(elm.Line().right().at(pfet.drain)) #VSS\n",
    "d.add(elm.Line().left().at(pfet.drain).label('VDD', loc='left'))\n",
    "d.add(elm.Line().length(2).right().at(nfet.source).label('Q', loc='right')) #Q\n",
    "d.add(elm.Line().length(0.75).down().at(pfet.gate))\n",
    "d.push()\n",
    "d.add(elm.Line().length(1).left().label('A', loc='left')) #A\n",
    "d.pop()\n",
    "d.add(elm.Line().length(0.75).down())\n",
    "d.draw()"
   ]
  },
  {
   "cell_type": "markdown",
   "id": "25d616a6",
   "metadata": {},
   "source": [
    "AND Gate CMOS"
   ]
  },
  {
   "cell_type": "code",
   "execution_count": 99,
   "id": "e5a40f96",
   "metadata": {},
   "outputs": [
    {
     "data": {
      "application/vnd.jupyter.widget-view+json": {
       "model_id": "d0cccb6784da4a66974a2f605e9032fa",
       "version_major": 2,
       "version_minor": 0
      },
      "text/plain": [
       "HBox(children=(RadioButtons(description='A', index=1, options=(0, 1), value=1), RadioButtons(description='B', …"
      ]
     },
     "metadata": {},
     "output_type": "display_data"
    },
    {
     "data": {
      "image/png": "[encoded data removed]",
      "image/svg+xml": [
       "<svg xmlns=\"http://www.w3.org/2000/svg\" xml:lang=\"en\" height=\"40.0pt\" width=\"148.33120000000002pt\" viewBox=\"-31.3112 -21.62 148.33120000000002 40.0\"><path d=\"M 32.4,16.2 L 33.43793756368755,16.166715362555447 L 34.471610019288995,16.066998223936586 L 35.49676978496223,15.901258343255257 L 36.50920425933402,15.670176781232277 L 37.50475313198265,15.37470310157283 L 38.47932547904586,15.016051469005552 L 39.42891657370444,14.595695660019189 L 40.34962434246379,14.115363006798908 L 41.23766539961089,13.577027299247819 L 42.08939059395769,12.982900674260899 L 42.90130000398618,12.335424525579977 L 43.670057319776475,11.637259471583187 L 44.392503552620106,10.891274422233332 L 45.06567001598208,10.100534790111482 L 45.68679052447069,9.268289893979148 L 46.2533127606866,8.397959606630506 L 46.7629087632426,7.493120301901532 L 47.21348449285616,6.557490158582782 L 47.60318843720612,5.594913881625185 L 47.93041921919391,4.609346903422728 L 48.19383217734554,3.604839130092293 L 48.392344891314096,2.5855182995407433 L 48.52514162977701,1.5555730197044453 L 48.59167670245114,0.5192355566608153 L 48.59167670245114,-0.5192355566608118 L 48.52514162977701,-1.555573019704442 L 48.392344891314096,-2.58551829954074 L 48.19383217734554,-3.604839130092293 L 47.93041921919391,-4.609346903422725 L 47.60318843720612,-5.594913881625182 L 47.21348449285616,-6.557490158582778 L 46.7629087632426,-7.493120301901529 L 46.2533127606866,-8.397959606630506 L 45.68679052447069,-9.268289893979144 L 45.06567001598208,-10.100534790111482 L 44.392503552620106,-10.891274422233328 L 43.67005731977648,-11.637259471583185 L 42.90130000398618,-12.335424525579974 L 42.0893905939577,-12.982900674260897 L 41.23766539961089,-13.577027299247815 L 40.34962434246379,-14.115363006798907 L 39.42891657370444,-14.595695660019189 L 38.47932547904586,-15.01605146900555 L 37.50475313198265,-15.37470310157283 L 36.50920425933402,-15.670176781232275 L 35.49676978496223,-15.901258343255257 L 34.471610019289,-16.066998223936586 L 33.437937563687555,-16.166715362555447 L 32.4,-16.2 L 32.4,-16.2 L 11.339999999999998,-16.2 L 11.339999999999998,-0.0 L 11.339999999999998,16.2 L 32.4,16.2\" style=\"stroke:black;fill:none;stroke-width:2;stroke-linecap:round;stroke-linejoin:round;\" />\n",
       "<path d=\"M 0.0,8.1 L 11.339999999999998,8.1\" style=\"stroke:black;fill:none;stroke-width:2;stroke-linecap:round;stroke-linejoin:round;\" />\n",
       "<path d=\"M 0.0,-8.1 L 11.339999999999998,-8.1\" style=\"stroke:black;fill:none;stroke-width:2;stroke-linecap:round;stroke-linejoin:round;\" />\n",
       "<path d=\"M 0.0,-0.0 M 48.599999999999994,-0.0 L 59.93999999999999,-0.0\" style=\"stroke:black;fill:none;stroke-width:2;stroke-linecap:round;stroke-linejoin:round;\" />\n",
       "<text x=\"-3.24\" y=\"-13.7\" fill=\"black\" font-size=\"14\"\n",
       "font-family=\"sans-serif\" text-anchor=\"end\"  transform=\" rotate(0 -3.24 -8.1)\"><tspan x=\"-3.24\" dy=\"11.200000000000001\">A=1</tspan></text>\n",
       "<text x=\"-3.24\" y=\"2.4999999999999982\" fill=\"black\" font-size=\"14\"\n",
       "font-family=\"sans-serif\" text-anchor=\"end\"  transform=\" rotate(0 -3.24 8.1)\"><tspan x=\"-3.24\" dy=\"11.200000000000001\">B=1</tspan></text>\n",
       "<text x=\"63.17999999999999\" y=\"-5.6000000000000005\" fill=\"black\" font-size=\"14\"\n",
       "font-family=\"sans-serif\" text-anchor=\"start\"  transform=\" rotate(0 63.17999999999999 -0.0)\"><tspan x=\"63.17999999999999\" dy=\"11.200000000000001\">A&B = 1</tspan></text></svg>"
      ],
      "text/plain": [
       "<schemdraw.logic.logic.And at 0x2a6f2c241c0>"
      ]
     },
     "metadata": {},
     "output_type": "display_data"
    }
   ],
   "source": [
    "def radio_eventhandler_a(obj):\n",
    "    clear_output()\n",
    "    display(a_b)\n",
    "    new_val = obj['new']\n",
    "    display(logic.And().label(f'A={new_val}', loc='in1').label(f'B={b.value}', loc='in2').label(f'A&B = {new_val*b.value}', loc='right'))\n",
    "\n",
    "def radio_eventhandler_b(obj):\n",
    "    clear_output()\n",
    "    display(a_b)\n",
    "    new_val = obj['new']\n",
    "    display(logic.And().label(f'A={a.value}', loc='in1').label(f'B={new_val}', loc='in2').label(f'A&B = {a.value*new_val}', loc='right'))\n",
    "\n",
    "a= widgets.RadioButtons(\n",
    "    options=[0, 1],\n",
    "    description='A',\n",
    "    disabled=False\n",
    ")\n",
    "b= widgets.RadioButtons(\n",
    "    options=[0, 1],\n",
    "    description='B',\n",
    "    disabled=False\n",
    ")\n",
    "a_b = HBox([a, b])\n",
    "display(a_b)\n",
    "display(logic.And().label(f'A={a.value}', loc='in1').label(f'B={b.value}', loc='in2').label(f'A&B = {a.value*b.value}', loc='right'))\n",
    "a.observe(radio_eventhandler_a, names='value')\n",
    "b.observe(radio_eventhandler_b, names='value')\n",
    "    \n"
   ]
  }
 ],
 "metadata": {
  "kernelspec": {
   "display_name": "Python 3",
   "language": "python",
   "name": "python3"
  },
  "language_info": {
   "codemirror_mode": {
    "name": "ipython",
    "version": 3
   },
   "file_extension": ".py",
   "mimetype": "text/x-python",
   "name": "python",
   "nbconvert_exporter": "python",
   "pygments_lexer": "ipython3",
   "version": "3.9.0"
  }
 },
 "nbformat": 4,
 "nbformat_minor": 5
}
